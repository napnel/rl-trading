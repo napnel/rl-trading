{
 "cells": [
  {
   "cell_type": "code",
   "execution_count": 1,
   "metadata": {},
   "outputs": [],
   "source": [
    "from pathlib import Path\n",
    "import pandas as pd"
   ]
  },
  {
   "cell_type": "code",
   "execution_count": 2,
   "metadata": {},
   "outputs": [],
   "source": [
    "DATA_PATH = Path.home() / \"data\" / \"BTCUSDT\""
   ]
  },
  {
   "cell_type": "code",
   "execution_count": 3,
   "metadata": {},
   "outputs": [],
   "source": [
    "transac_path = DATA_PATH / \"transactions\""
   ]
  },
  {
   "cell_type": "code",
   "execution_count": 6,
   "metadata": {},
   "outputs": [
    {
     "data": {
      "text/html": [
       "<div>\n",
       "<style scoped>\n",
       "    .dataframe tbody tr th:only-of-type {\n",
       "        vertical-align: middle;\n",
       "    }\n",
       "\n",
       "    .dataframe tbody tr th {\n",
       "        vertical-align: top;\n",
       "    }\n",
       "\n",
       "    .dataframe thead th {\n",
       "        text-align: right;\n",
       "    }\n",
       "</style>\n",
       "<table border=\"1\" class=\"dataframe\">\n",
       "  <thead>\n",
       "    <tr style=\"text-align: right;\">\n",
       "      <th></th>\n",
       "      <th>side</th>\n",
       "      <th>size</th>\n",
       "      <th>price</th>\n",
       "    </tr>\n",
       "    <tr>\n",
       "      <th>Datetime</th>\n",
       "      <th></th>\n",
       "      <th></th>\n",
       "      <th></th>\n",
       "    </tr>\n",
       "  </thead>\n",
       "  <tbody>\n",
       "    <tr>\n",
       "      <th>2021-01-01 09:00:03+09:00</th>\n",
       "      <td>Buy</td>\n",
       "      <td>0.001</td>\n",
       "      <td>28922.000</td>\n",
       "    </tr>\n",
       "    <tr>\n",
       "      <th>2021-01-01 09:00:04+09:00</th>\n",
       "      <td>Buy</td>\n",
       "      <td>10.313</td>\n",
       "      <td>28922.000</td>\n",
       "    </tr>\n",
       "    <tr>\n",
       "      <th>2021-01-01 09:00:04+09:00</th>\n",
       "      <td>Sell</td>\n",
       "      <td>0.001</td>\n",
       "      <td>28921.500</td>\n",
       "    </tr>\n",
       "    <tr>\n",
       "      <th>2021-01-01 09:00:05+09:00</th>\n",
       "      <td>Buy</td>\n",
       "      <td>0.016</td>\n",
       "      <td>28922.000</td>\n",
       "    </tr>\n",
       "    <tr>\n",
       "      <th>2021-01-01 09:00:05+09:00</th>\n",
       "      <td>Sell</td>\n",
       "      <td>0.003</td>\n",
       "      <td>28921.500</td>\n",
       "    </tr>\n",
       "    <tr>\n",
       "      <th>...</th>\n",
       "      <td>...</td>\n",
       "      <td>...</td>\n",
       "      <td>...</td>\n",
       "    </tr>\n",
       "    <tr>\n",
       "      <th>2022-08-29 08:59:57+09:00</th>\n",
       "      <td>Buy</td>\n",
       "      <td>0.331</td>\n",
       "      <td>19547.625</td>\n",
       "    </tr>\n",
       "    <tr>\n",
       "      <th>2022-08-29 08:59:57+09:00</th>\n",
       "      <td>Sell</td>\n",
       "      <td>0.007</td>\n",
       "      <td>19547.250</td>\n",
       "    </tr>\n",
       "    <tr>\n",
       "      <th>2022-08-29 08:59:58+09:00</th>\n",
       "      <td>Buy</td>\n",
       "      <td>1.382</td>\n",
       "      <td>19548.000</td>\n",
       "    </tr>\n",
       "    <tr>\n",
       "      <th>2022-08-29 08:59:58+09:00</th>\n",
       "      <td>Sell</td>\n",
       "      <td>0.497</td>\n",
       "      <td>19547.500</td>\n",
       "    </tr>\n",
       "    <tr>\n",
       "      <th>2022-08-29 08:59:59+09:00</th>\n",
       "      <td>Buy</td>\n",
       "      <td>0.714</td>\n",
       "      <td>19548.000</td>\n",
       "    </tr>\n",
       "  </tbody>\n",
       "</table>\n",
       "<p>48358956 rows × 3 columns</p>\n",
       "</div>"
      ],
      "text/plain": [
       "                           side    size      price\n",
       "Datetime                                          \n",
       "2021-01-01 09:00:03+09:00   Buy   0.001  28922.000\n",
       "2021-01-01 09:00:04+09:00   Buy  10.313  28922.000\n",
       "2021-01-01 09:00:04+09:00  Sell   0.001  28921.500\n",
       "2021-01-01 09:00:05+09:00   Buy   0.016  28922.000\n",
       "2021-01-01 09:00:05+09:00  Sell   0.003  28921.500\n",
       "...                         ...     ...        ...\n",
       "2022-08-29 08:59:57+09:00   Buy   0.331  19547.625\n",
       "2022-08-29 08:59:57+09:00  Sell   0.007  19547.250\n",
       "2022-08-29 08:59:58+09:00   Buy   1.382  19548.000\n",
       "2022-08-29 08:59:58+09:00  Sell   0.497  19547.500\n",
       "2022-08-29 08:59:59+09:00   Buy   0.714  19548.000\n",
       "\n",
       "[48358956 rows x 3 columns]"
      ]
     },
     "execution_count": 6,
     "metadata": {},
     "output_type": "execute_result"
    }
   ],
   "source": [
    "csv_files = sorted(list(transac_path.glob(\"*.csv\")))\n",
    "df = pd.concat([pd.read_csv(file, index_col=\"Datetime\", parse_dates=True) for file in csv_files])\n",
    "df"
   ]
  },
  {
   "cell_type": "code",
   "execution_count": 9,
   "metadata": {},
   "outputs": [],
   "source": [
    "df.to_pickle(DATA_PATH / \"transaction.pkl\")"
   ]
  },
  {
   "cell_type": "code",
   "execution_count": 17,
   "metadata": {},
   "outputs": [],
   "source": [
    "from scripts.extract_features import attach_features"
   ]
  },
  {
   "cell_type": "code",
   "execution_count": 18,
   "metadata": {},
   "outputs": [],
   "source": [
    "ohlcv_path = DATA_PATH / \"ohlcv\"\n",
    "ohlcv_with_features_path = DATA_PATH / \"ohlcv_with_features\"\n",
    "ohlcv_path.mkdir(exist_ok=True, parents=True)\n",
    "ohlcv_with_features_path.mkdir(exist_ok=True, parents=True)"
   ]
  },
  {
   "cell_type": "code",
   "execution_count": 22,
   "metadata": {},
   "outputs": [],
   "source": [
    "df = pd.read_pickle(DATA_PATH / \"transaction.pkl\")\n",
    "rules = [\"1T\", \"5T\", \"15T\", \"1H\", \"4H\", \"1D\"]\n",
    "for rule in rules:\n",
    "    ohlcv: pd.DataFrame = df[\"price\"].resample(rule).ohlc()\n",
    "    ohlcv[\"Volume\"] = df[\"size\"].resample(rule).sum()\n",
    "    ohlcv = ohlcv.rename(columns=str.capitalize)\n",
    "    ohlcv = ohlcv.fillna(method=\"ffill\").fillna(method=\"bfill\")\n",
    "    ohlcv.to_pickle(ohlcv_path / f\"{rule}.pkl\")\n",
    "\n",
    "    ohlcv_with_features = attach_features(ohlcv)\n",
    "    ohlcv_with_features.to_pickle(ohlcv_with_features_path / f\"{rule}.pkl\")"
   ]
  },
  {
   "cell_type": "code",
   "execution_count": 25,
   "metadata": {},
   "outputs": [],
   "source": [
    "# １分足を月別に保存する\n",
    "ohlcv = pd.read_pickle(ohlcv_path / \"1T.pkl\")\n",
    "ohlcv[\"Year\"] = ohlcv.index.year\n",
    "ohlcv[\"Month\"] = ohlcv.index.month\n",
    "for year in ohlcv[\"Year\"].unique():\n",
    "    for month in ohlcv[\"Month\"].unique():\n",
    "        df_month = ohlcv.loc[(ohlcv[\"Year\"] == year) & (ohlcv[\"Month\"] == month), :]\n",
    "        if not df_month.empty:\n",
    "            df_month[[\"Open\", \"High\", \"Low\", \"Close\", \"Volume\"]].to_csv(ohlcv_path / f\"{year}-{month}.csv\")"
   ]
  },
  {
   "cell_type": "code",
   "execution_count": 27,
   "metadata": {},
   "outputs": [
    {
     "name": "stdout",
     "output_type": "stream",
     "text": [
      "['feature_candle_value', 'feature_candle_value_mean_10', 'feature_candle_value_mean_20', 'feature_candle_value_mean_5', 'feature_exceed_high_10', 'feature_exceed_high_20', 'feature_exceed_high_3', 'feature_exceed_high_5', 'feature_exceed_low_10', 'feature_exceed_low_20', 'feature_exceed_low_3', 'feature_exceed_low_5', 'feature_gap_ma_10', 'feature_gap_ma_20', 'feature_gap_ma_3', 'feature_gap_ma_5', 'feature_log_return', 'feature_log_return_mean_10', 'feature_log_return_mean_20', 'feature_log_return_mean_5', 'feature_lower_shadow', 'feature_lower_shadow_mean_10', 'feature_lower_shadow_mean_20', 'feature_lower_shadow_mean_5', 'feature_price_momentum_10', 'feature_price_momentum_20', 'feature_price_momentum_3', 'feature_price_momentum_5', 'feature_range', 'feature_real_body', 'feature_real_body_mean_10', 'feature_real_body_mean_20', 'feature_real_body_mean_5', 'feature_shadow_range', 'feature_shadow_range_mean_10', 'feature_shadow_range_mean_20', 'feature_shadow_range_mean_5', 'feature_true_log_return', 'feature_true_log_return_mean_10', 'feature_true_log_return_mean_20', 'feature_true_log_return_mean_5', 'feature_true_range', 'feature_true_range_mean_10', 'feature_true_range_mean_20', 'feature_true_range_mean_5', 'feature_upper_shadow', 'feature_upper_shadow_mean_10', 'feature_upper_shadow_mean_20', 'feature_upper_shadow_mean_5', 'feature_volatility_10', 'feature_volatility_20', 'feature_volatility_3', 'feature_volatility_5']\n",
      "['feature_candle_value', 'feature_candle_value_mean_10', 'feature_candle_value_mean_20', 'feature_candle_value_mean_5', 'feature_exceed_high_10', 'feature_exceed_high_20', 'feature_exceed_high_3', 'feature_exceed_high_5', 'feature_exceed_low_10', 'feature_exceed_low_20', 'feature_exceed_low_3', 'feature_exceed_low_5', 'feature_gap_ma_10', 'feature_gap_ma_20', 'feature_gap_ma_3', 'feature_gap_ma_5', 'feature_log_return', 'feature_log_return_mean_10', 'feature_log_return_mean_20', 'feature_log_return_mean_5', 'feature_lower_shadow', 'feature_lower_shadow_mean_10', 'feature_lower_shadow_mean_20', 'feature_lower_shadow_mean_5', 'feature_price_momentum_10', 'feature_price_momentum_20', 'feature_price_momentum_3', 'feature_price_momentum_5', 'feature_range', 'feature_real_body', 'feature_real_body_mean_10', 'feature_real_body_mean_20', 'feature_real_body_mean_5', 'feature_shadow_range', 'feature_shadow_range_mean_10', 'feature_shadow_range_mean_20', 'feature_shadow_range_mean_5', 'feature_true_log_return', 'feature_true_log_return_mean_10', 'feature_true_log_return_mean_20', 'feature_true_log_return_mean_5', 'feature_true_range', 'feature_true_range_mean_10', 'feature_true_range_mean_20', 'feature_true_range_mean_5', 'feature_upper_shadow', 'feature_upper_shadow_mean_10', 'feature_upper_shadow_mean_20', 'feature_upper_shadow_mean_5', 'feature_volatility_10', 'feature_volatility_20', 'feature_volatility_3', 'feature_volatility_5']\n",
      "['feature_candle_value', 'feature_candle_value_mean_10', 'feature_candle_value_mean_20', 'feature_candle_value_mean_5', 'feature_exceed_high_10', 'feature_exceed_high_20', 'feature_exceed_high_3', 'feature_exceed_high_5', 'feature_exceed_low_10', 'feature_exceed_low_20', 'feature_exceed_low_3', 'feature_exceed_low_5', 'feature_gap_ma_10', 'feature_gap_ma_20', 'feature_gap_ma_3', 'feature_gap_ma_5', 'feature_log_return', 'feature_log_return_mean_10', 'feature_log_return_mean_20', 'feature_log_return_mean_5', 'feature_lower_shadow', 'feature_lower_shadow_mean_10', 'feature_lower_shadow_mean_20', 'feature_lower_shadow_mean_5', 'feature_price_momentum_10', 'feature_price_momentum_20', 'feature_price_momentum_3', 'feature_price_momentum_5', 'feature_range', 'feature_real_body', 'feature_real_body_mean_10', 'feature_real_body_mean_20', 'feature_real_body_mean_5', 'feature_shadow_range', 'feature_shadow_range_mean_10', 'feature_shadow_range_mean_20', 'feature_shadow_range_mean_5', 'feature_true_log_return', 'feature_true_log_return_mean_10', 'feature_true_log_return_mean_20', 'feature_true_log_return_mean_5', 'feature_true_range', 'feature_true_range_mean_10', 'feature_true_range_mean_20', 'feature_true_range_mean_5', 'feature_upper_shadow', 'feature_upper_shadow_mean_10', 'feature_upper_shadow_mean_20', 'feature_upper_shadow_mean_5', 'feature_volatility_10', 'feature_volatility_20', 'feature_volatility_3', 'feature_volatility_5']\n",
      "['feature_candle_value', 'feature_candle_value_mean_10', 'feature_candle_value_mean_20', 'feature_candle_value_mean_5', 'feature_exceed_high_10', 'feature_exceed_high_20', 'feature_exceed_high_3', 'feature_exceed_high_5', 'feature_exceed_low_10', 'feature_exceed_low_20', 'feature_exceed_low_3', 'feature_exceed_low_5', 'feature_gap_ma_10', 'feature_gap_ma_20', 'feature_gap_ma_3', 'feature_gap_ma_5', 'feature_log_return', 'feature_log_return_mean_10', 'feature_log_return_mean_20', 'feature_log_return_mean_5', 'feature_lower_shadow', 'feature_lower_shadow_mean_10', 'feature_lower_shadow_mean_20', 'feature_lower_shadow_mean_5', 'feature_price_momentum_10', 'feature_price_momentum_20', 'feature_price_momentum_3', 'feature_price_momentum_5', 'feature_range', 'feature_real_body', 'feature_real_body_mean_10', 'feature_real_body_mean_20', 'feature_real_body_mean_5', 'feature_shadow_range', 'feature_shadow_range_mean_10', 'feature_shadow_range_mean_20', 'feature_shadow_range_mean_5', 'feature_true_log_return', 'feature_true_log_return_mean_10', 'feature_true_log_return_mean_20', 'feature_true_log_return_mean_5', 'feature_true_range', 'feature_true_range_mean_10', 'feature_true_range_mean_20', 'feature_true_range_mean_5', 'feature_upper_shadow', 'feature_upper_shadow_mean_10', 'feature_upper_shadow_mean_20', 'feature_upper_shadow_mean_5', 'feature_volatility_10', 'feature_volatility_20', 'feature_volatility_3', 'feature_volatility_5']\n",
      "['feature_candle_value', 'feature_candle_value_mean_10', 'feature_candle_value_mean_20', 'feature_candle_value_mean_5', 'feature_exceed_high_10', 'feature_exceed_high_20', 'feature_exceed_high_3', 'feature_exceed_high_5', 'feature_exceed_low_10', 'feature_exceed_low_20', 'feature_exceed_low_3', 'feature_exceed_low_5', 'feature_gap_ma_10', 'feature_gap_ma_20', 'feature_gap_ma_3', 'feature_gap_ma_5', 'feature_log_return', 'feature_log_return_mean_10', 'feature_log_return_mean_20', 'feature_log_return_mean_5', 'feature_lower_shadow', 'feature_lower_shadow_mean_10', 'feature_lower_shadow_mean_20', 'feature_lower_shadow_mean_5', 'feature_price_momentum_10', 'feature_price_momentum_20', 'feature_price_momentum_3', 'feature_price_momentum_5', 'feature_range', 'feature_real_body', 'feature_real_body_mean_10', 'feature_real_body_mean_20', 'feature_real_body_mean_5', 'feature_shadow_range', 'feature_shadow_range_mean_10', 'feature_shadow_range_mean_20', 'feature_shadow_range_mean_5', 'feature_true_log_return', 'feature_true_log_return_mean_10', 'feature_true_log_return_mean_20', 'feature_true_log_return_mean_5', 'feature_true_range', 'feature_true_range_mean_10', 'feature_true_range_mean_20', 'feature_true_range_mean_5', 'feature_upper_shadow', 'feature_upper_shadow_mean_10', 'feature_upper_shadow_mean_20', 'feature_upper_shadow_mean_5', 'feature_volatility_10', 'feature_volatility_20', 'feature_volatility_3', 'feature_volatility_5']\n",
      "['feature_candle_value', 'feature_candle_value_mean_10', 'feature_candle_value_mean_20', 'feature_candle_value_mean_5', 'feature_exceed_high_10', 'feature_exceed_high_20', 'feature_exceed_high_3', 'feature_exceed_high_5', 'feature_exceed_low_10', 'feature_exceed_low_20', 'feature_exceed_low_3', 'feature_exceed_low_5', 'feature_gap_ma_10', 'feature_gap_ma_20', 'feature_gap_ma_3', 'feature_gap_ma_5', 'feature_log_return', 'feature_log_return_mean_10', 'feature_log_return_mean_20', 'feature_log_return_mean_5', 'feature_lower_shadow', 'feature_lower_shadow_mean_10', 'feature_lower_shadow_mean_20', 'feature_lower_shadow_mean_5', 'feature_price_momentum_10', 'feature_price_momentum_20', 'feature_price_momentum_3', 'feature_price_momentum_5', 'feature_range', 'feature_real_body', 'feature_real_body_mean_10', 'feature_real_body_mean_20', 'feature_real_body_mean_5', 'feature_shadow_range', 'feature_shadow_range_mean_10', 'feature_shadow_range_mean_20', 'feature_shadow_range_mean_5', 'feature_true_log_return', 'feature_true_log_return_mean_10', 'feature_true_log_return_mean_20', 'feature_true_log_return_mean_5', 'feature_true_range', 'feature_true_range_mean_10', 'feature_true_range_mean_20', 'feature_true_range_mean_5', 'feature_upper_shadow', 'feature_upper_shadow_mean_10', 'feature_upper_shadow_mean_20', 'feature_upper_shadow_mean_5', 'feature_volatility_10', 'feature_volatility_20', 'feature_volatility_3', 'feature_volatility_5']\n"
     ]
    }
   ],
   "source": [
    "# divide into train and test with scale\n",
    "import pickle\n",
    "from sklearn.preprocessing import StandardScaler\n",
    "from sklearn.model_selection import train_test_split\n",
    "for rule in rules:\n",
    "    df = pd.read_pickle(ohlcv_with_features_path / f\"{rule}.pkl\")\n",
    "    fe_cols = [col for col in df.columns if col.startswith(\"feature_\")]\n",
    "    print(fe_cols)\n",
    "    df_train, df_test = train_test_split(df, test_size=0.1, shuffle=False)\n",
    "    scaler = StandardScaler()\n",
    "    df_train[fe_cols] = pd.DataFrame(scaler.fit_transform(df_train[fe_cols]), columns=fe_cols, index=df_train.index)\n",
    "    df_test[fe_cols] = pd.DataFrame(scaler.transform(df_test[fe_cols]), columns=fe_cols, index=df_test.index)\n",
    "    df_train.to_pickle(ohlcv_with_features_path / f\"{rule}_train.pkl\")\n",
    "    df_test.to_pickle(ohlcv_with_features_path / f\"{rule}_test.pkl\")\n",
    "    with open(ohlcv_with_features_path / f\"{rule}_scaler.pkl\", \"wb\") as f:\n",
    "        pickle.dump(scaler, f)"
   ]
  }
 ],
 "metadata": {
  "kernelspec": {
   "display_name": "Python 3.8.0 ('ml-bot')",
   "language": "python",
   "name": "python3"
  },
  "language_info": {
   "codemirror_mode": {
    "name": "ipython",
    "version": 3
   },
   "file_extension": ".py",
   "mimetype": "text/x-python",
   "name": "python",
   "nbconvert_exporter": "python",
   "pygments_lexer": "ipython3",
   "version": "3.8.0"
  },
  "orig_nbformat": 4,
  "vscode": {
   "interpreter": {
    "hash": "aee554be5372d57a1a8d0c8789d456036f96c86b5a6259585cc7b77cce32bbd9"
   }
  }
 },
 "nbformat": 4,
 "nbformat_minor": 2
}
