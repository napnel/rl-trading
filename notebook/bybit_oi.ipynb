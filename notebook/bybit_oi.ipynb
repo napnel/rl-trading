{
 "cells": [
  {
   "cell_type": "code",
   "execution_count": 1,
   "metadata": {},
   "outputs": [],
   "source": [
    "import ccxt\n",
    "from dotenv import load_dotenv\n",
    "import os\n",
    "from pathlib import Path"
   ]
  },
  {
   "cell_type": "code",
   "execution_count": 2,
   "metadata": {},
   "outputs": [
    {
     "data": {
      "text/plain": [
       "True"
      ]
     },
     "execution_count": 2,
     "metadata": {},
     "output_type": "execute_result"
    }
   ],
   "source": [
    "exchange = ccxt.bybit()\n",
    "load_dotenv(verbose=True)\n",
    "dotenv_path = Path.home() / \".env\"\n",
    "load_dotenv(dotenv_path)\n",
    "exchange.apiKey = os.environ[\"BYBIT_API_KEY\"]\n",
    "exchange.secret = os.environ[\"BYBIT_SECRET\"]\n",
    "exchange.options[\"timeDifference\"] = 5000\n",
    "exchange.check_required_credentials()"
   ]
  },
  {
   "cell_type": "code",
   "execution_count": 3,
   "metadata": {},
   "outputs": [
    {
     "data": {
      "text/plain": [
       "[{'info': {'user_id': '2694409',\n",
       "   'symbol': 'BTCUSDT',\n",
       "   'side': 'None',\n",
       "   'size': '0',\n",
       "   'position_value': '0',\n",
       "   'entry_price': '0',\n",
       "   'liq_price': '0',\n",
       "   'bust_price': '0',\n",
       "   'leverage': '5',\n",
       "   'auto_add_margin': '0',\n",
       "   'is_isolated': False,\n",
       "   'position_margin': '0',\n",
       "   'occ_closing_fee': '0',\n",
       "   'realised_pnl': '0',\n",
       "   'cum_realised_pnl': '9.61110095',\n",
       "   'free_qty': '0',\n",
       "   'tp_sl_mode': 'Full',\n",
       "   'unrealised_pnl': '0',\n",
       "   'deleverage_indicator': '0',\n",
       "   'risk_id': '1',\n",
       "   'stop_loss': '0',\n",
       "   'take_profit': '0',\n",
       "   'trailing_stop': '0',\n",
       "   'position_idx': '0',\n",
       "   'mode': 'MergedSingle'},\n",
       "  'symbol': 'BTC/USDT:USDT',\n",
       "  'timestamp': None,\n",
       "  'datetime': None,\n",
       "  'initialMargin': None,\n",
       "  'initialMarginPercentage': None,\n",
       "  'maintenanceMargin': None,\n",
       "  'maintenanceMarginPercentage': None,\n",
       "  'entryPrice': None,\n",
       "  'notional': 0.0,\n",
       "  'leverage': 5.0,\n",
       "  'unrealizedPnl': None,\n",
       "  'contracts': 0.0,\n",
       "  'contractSize': 1.0,\n",
       "  'marginRatio': None,\n",
       "  'liquidationPrice': None,\n",
       "  'markPrice': None,\n",
       "  'collateral': 0.0,\n",
       "  'marginMode': 'cross',\n",
       "  'side': 'short',\n",
       "  'percentage': None}]"
      ]
     },
     "execution_count": 3,
     "metadata": {},
     "output_type": "execute_result"
    }
   ],
   "source": [
    "exchange.fetch_positions([\"BTCUSDT\"])"
   ]
  },
  {
   "cell_type": "code",
   "execution_count": 4,
   "metadata": {},
   "outputs": [
    {
     "data": {
      "text/plain": [
       "{'1m': '1',\n",
       " '3m': '3',\n",
       " '5m': '5',\n",
       " '15m': '15',\n",
       " '30m': '30',\n",
       " '1h': '60',\n",
       " '2h': '120',\n",
       " '4h': '240',\n",
       " '6h': '360',\n",
       " '12h': '720',\n",
       " '1d': 'D',\n",
       " '1w': 'W',\n",
       " '1M': 'M',\n",
       " '1y': 'Y'}"
      ]
     },
     "execution_count": 4,
     "metadata": {},
     "output_type": "execute_result"
    }
   ],
   "source": [
    "exchange.timeframes"
   ]
  },
  {
   "cell_type": "code",
   "execution_count": 13,
   "metadata": {},
   "outputs": [],
   "source": [
    "import pandas as pd\n",
    "import numpy as np"
   ]
  },
  {
   "cell_type": "code",
   "execution_count": 6,
   "metadata": {},
   "outputs": [
    {
     "data": {
      "text/html": [
       "<div>\n",
       "<style scoped>\n",
       "    .dataframe tbody tr th:only-of-type {\n",
       "        vertical-align: middle;\n",
       "    }\n",
       "\n",
       "    .dataframe tbody tr th {\n",
       "        vertical-align: top;\n",
       "    }\n",
       "\n",
       "    .dataframe thead th {\n",
       "        text-align: right;\n",
       "    }\n",
       "</style>\n",
       "<table border=\"1\" class=\"dataframe\">\n",
       "  <thead>\n",
       "    <tr style=\"text-align: right;\">\n",
       "      <th></th>\n",
       "      <th>Datetime</th>\n",
       "      <th>Open</th>\n",
       "      <th>High</th>\n",
       "      <th>Low</th>\n",
       "      <th>Close</th>\n",
       "      <th>Volume</th>\n",
       "    </tr>\n",
       "  </thead>\n",
       "  <tbody>\n",
       "    <tr>\n",
       "      <th>0</th>\n",
       "      <td>1660751100000</td>\n",
       "      <td>23372.0</td>\n",
       "      <td>23390.0</td>\n",
       "      <td>23343.5</td>\n",
       "      <td>23383.5</td>\n",
       "      <td>738.171</td>\n",
       "    </tr>\n",
       "    <tr>\n",
       "      <th>1</th>\n",
       "      <td>1660752000000</td>\n",
       "      <td>23383.5</td>\n",
       "      <td>23407.0</td>\n",
       "      <td>23326.0</td>\n",
       "      <td>23358.0</td>\n",
       "      <td>1083.235</td>\n",
       "    </tr>\n",
       "    <tr>\n",
       "      <th>2</th>\n",
       "      <td>1660752900000</td>\n",
       "      <td>23358.0</td>\n",
       "      <td>23393.0</td>\n",
       "      <td>23331.5</td>\n",
       "      <td>23371.5</td>\n",
       "      <td>1012.753</td>\n",
       "    </tr>\n",
       "    <tr>\n",
       "      <th>3</th>\n",
       "      <td>1660753800000</td>\n",
       "      <td>23371.5</td>\n",
       "      <td>23450.0</td>\n",
       "      <td>23355.0</td>\n",
       "      <td>23410.0</td>\n",
       "      <td>2034.795</td>\n",
       "    </tr>\n",
       "    <tr>\n",
       "      <th>4</th>\n",
       "      <td>1660754700000</td>\n",
       "      <td>23410.0</td>\n",
       "      <td>23432.0</td>\n",
       "      <td>23384.0</td>\n",
       "      <td>23408.0</td>\n",
       "      <td>811.339</td>\n",
       "    </tr>\n",
       "    <tr>\n",
       "      <th>...</th>\n",
       "      <td>...</td>\n",
       "      <td>...</td>\n",
       "      <td>...</td>\n",
       "      <td>...</td>\n",
       "      <td>...</td>\n",
       "      <td>...</td>\n",
       "    </tr>\n",
       "    <tr>\n",
       "      <th>95</th>\n",
       "      <td>1660836600000</td>\n",
       "      <td>23428.5</td>\n",
       "      <td>23469.5</td>\n",
       "      <td>23425.0</td>\n",
       "      <td>23445.0</td>\n",
       "      <td>1397.103</td>\n",
       "    </tr>\n",
       "    <tr>\n",
       "      <th>96</th>\n",
       "      <td>1660837500000</td>\n",
       "      <td>23445.0</td>\n",
       "      <td>23478.5</td>\n",
       "      <td>23440.0</td>\n",
       "      <td>23442.0</td>\n",
       "      <td>668.156</td>\n",
       "    </tr>\n",
       "    <tr>\n",
       "      <th>97</th>\n",
       "      <td>1660838400000</td>\n",
       "      <td>23442.0</td>\n",
       "      <td>23455.5</td>\n",
       "      <td>23403.5</td>\n",
       "      <td>23404.0</td>\n",
       "      <td>676.650</td>\n",
       "    </tr>\n",
       "    <tr>\n",
       "      <th>98</th>\n",
       "      <td>1660839300000</td>\n",
       "      <td>23404.0</td>\n",
       "      <td>23419.0</td>\n",
       "      <td>23313.0</td>\n",
       "      <td>23325.0</td>\n",
       "      <td>2181.775</td>\n",
       "    </tr>\n",
       "    <tr>\n",
       "      <th>99</th>\n",
       "      <td>1660840200000</td>\n",
       "      <td>23325.0</td>\n",
       "      <td>23325.0</td>\n",
       "      <td>23264.0</td>\n",
       "      <td>23299.0</td>\n",
       "      <td>1448.409</td>\n",
       "    </tr>\n",
       "  </tbody>\n",
       "</table>\n",
       "<p>100 rows × 6 columns</p>\n",
       "</div>"
      ],
      "text/plain": [
       "         Datetime     Open     High      Low    Close    Volume\n",
       "0   1660751100000  23372.0  23390.0  23343.5  23383.5   738.171\n",
       "1   1660752000000  23383.5  23407.0  23326.0  23358.0  1083.235\n",
       "2   1660752900000  23358.0  23393.0  23331.5  23371.5  1012.753\n",
       "3   1660753800000  23371.5  23450.0  23355.0  23410.0  2034.795\n",
       "4   1660754700000  23410.0  23432.0  23384.0  23408.0   811.339\n",
       "..            ...      ...      ...      ...      ...       ...\n",
       "95  1660836600000  23428.5  23469.5  23425.0  23445.0  1397.103\n",
       "96  1660837500000  23445.0  23478.5  23440.0  23442.0   668.156\n",
       "97  1660838400000  23442.0  23455.5  23403.5  23404.0   676.650\n",
       "98  1660839300000  23404.0  23419.0  23313.0  23325.0  2181.775\n",
       "99  1660840200000  23325.0  23325.0  23264.0  23299.0  1448.409\n",
       "\n",
       "[100 rows x 6 columns]"
      ]
     },
     "execution_count": 6,
     "metadata": {},
     "output_type": "execute_result"
    }
   ],
   "source": [
    "ohlcv = exchange.fetch_ohlcv(\"BTCUSDT\", limit=100, timeframe=\"15m\")\n",
    "ohlcv = pd.DataFrame(ohlcv, columns=[\"Datetime\", \"Open\", \"High\", \"Low\", \"Close\", \"Volume\"])\n",
    "ohlcv"
   ]
  },
  {
   "cell_type": "code",
   "execution_count": 36,
   "metadata": {},
   "outputs": [
    {
     "data": {
      "text/plain": [
       "Datetime      int64\n",
       "Open        float64\n",
       "High        float64\n",
       "Low         float64\n",
       "Close       float64\n",
       "Volume      float64\n",
       "dtype: object"
      ]
     },
     "execution_count": 36,
     "metadata": {},
     "output_type": "execute_result"
    }
   ],
   "source": [
    "ohlcv = exchange.fetch_ohlcv(\"BTCUSDT\", timeframe=\"15m\", limit=200)\n",
    "ohlcv = pd.DataFrame(ohlcv, columns=[\"Datetime\", \"Open\", \"High\", \"Low\", \"Close\", \"Volume\"])\n",
    "ohlcv.dtypes"
   ]
  },
  {
   "cell_type": "code",
   "execution_count": 33,
   "metadata": {},
   "outputs": [
    {
     "data": {
      "text/html": [
       "<div>\n",
       "<style scoped>\n",
       "    .dataframe tbody tr th:only-of-type {\n",
       "        vertical-align: middle;\n",
       "    }\n",
       "\n",
       "    .dataframe tbody tr th {\n",
       "        vertical-align: top;\n",
       "    }\n",
       "\n",
       "    .dataframe thead th {\n",
       "        text-align: right;\n",
       "    }\n",
       "</style>\n",
       "<table border=\"1\" class=\"dataframe\">\n",
       "  <thead>\n",
       "    <tr style=\"text-align: right;\">\n",
       "      <th></th>\n",
       "      <th>open_interest</th>\n",
       "    </tr>\n",
       "    <tr>\n",
       "      <th>timestamp</th>\n",
       "      <th></th>\n",
       "    </tr>\n",
       "  </thead>\n",
       "  <tbody>\n",
       "    <tr>\n",
       "      <th>2022-08-16 14:45:00</th>\n",
       "      <td>44878.184</td>\n",
       "    </tr>\n",
       "    <tr>\n",
       "      <th>2022-08-16 15:00:00</th>\n",
       "      <td>45039.437</td>\n",
       "    </tr>\n",
       "    <tr>\n",
       "      <th>2022-08-16 15:15:00</th>\n",
       "      <td>45135.319</td>\n",
       "    </tr>\n",
       "    <tr>\n",
       "      <th>2022-08-16 15:30:00</th>\n",
       "      <td>45196.265</td>\n",
       "    </tr>\n",
       "    <tr>\n",
       "      <th>2022-08-16 15:45:00</th>\n",
       "      <td>45297.732</td>\n",
       "    </tr>\n",
       "    <tr>\n",
       "      <th>...</th>\n",
       "      <td>...</td>\n",
       "    </tr>\n",
       "    <tr>\n",
       "      <th>2022-08-18 15:30:00</th>\n",
       "      <td>51450.102</td>\n",
       "    </tr>\n",
       "    <tr>\n",
       "      <th>2022-08-18 15:45:00</th>\n",
       "      <td>51454.714</td>\n",
       "    </tr>\n",
       "    <tr>\n",
       "      <th>2022-08-18 16:00:00</th>\n",
       "      <td>51462.888</td>\n",
       "    </tr>\n",
       "    <tr>\n",
       "      <th>2022-08-18 16:15:00</th>\n",
       "      <td>51708.400</td>\n",
       "    </tr>\n",
       "    <tr>\n",
       "      <th>2022-08-18 16:30:00</th>\n",
       "      <td>51668.604</td>\n",
       "    </tr>\n",
       "  </tbody>\n",
       "</table>\n",
       "<p>200 rows × 1 columns</p>\n",
       "</div>"
      ],
      "text/plain": [
       "                     open_interest\n",
       "timestamp                         \n",
       "2022-08-16 14:45:00      44878.184\n",
       "2022-08-16 15:00:00      45039.437\n",
       "2022-08-16 15:15:00      45135.319\n",
       "2022-08-16 15:30:00      45196.265\n",
       "2022-08-16 15:45:00      45297.732\n",
       "...                            ...\n",
       "2022-08-18 15:30:00      51450.102\n",
       "2022-08-18 15:45:00      51454.714\n",
       "2022-08-18 16:00:00      51462.888\n",
       "2022-08-18 16:15:00      51708.400\n",
       "2022-08-18 16:30:00      51668.604\n",
       "\n",
       "[200 rows x 1 columns]"
      ]
     },
     "execution_count": 33,
     "metadata": {},
     "output_type": "execute_result"
    }
   ],
   "source": [
    "ohlcv = exchange.fetch_ohlcv(\"BTCUSDT\", timeframe=\"15min\", limit=200)\n",
    "oi = exchange.fetch_open_interest_history(\"BTCUSDT\", timeframe=\"15min\", limit=200)\n",
    "oi = [d[\"info\"] for d in oi]\n",
    "oi = pd.DataFrame(oi, columns=[\"timestamp\", \"open_interest\"], dtype=np.float64)\n",
    "oi[\"timestamp\"] = pd.to_datetime(oi[\"timestamp\"] * 1000 * 1000 * 1000)\n",
    "oi = oi.set_index(\"timestamp\")\n",
    "oi"
   ]
  }
 ],
 "metadata": {
  "kernelspec": {
   "display_name": "Python 3.8.0 ('ml-bot')",
   "language": "python",
   "name": "python3"
  },
  "language_info": {
   "codemirror_mode": {
    "name": "ipython",
    "version": 3
   },
   "file_extension": ".py",
   "mimetype": "text/x-python",
   "name": "python",
   "nbconvert_exporter": "python",
   "pygments_lexer": "ipython3",
   "version": "3.8.0"
  },
  "orig_nbformat": 4,
  "vscode": {
   "interpreter": {
    "hash": "aee554be5372d57a1a8d0c8789d456036f96c86b5a6259585cc7b77cce32bbd9"
   }
  }
 },
 "nbformat": 4,
 "nbformat_minor": 2
}
