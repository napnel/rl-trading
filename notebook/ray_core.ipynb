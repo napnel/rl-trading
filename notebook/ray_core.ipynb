{
 "cells": [
  {
   "cell_type": "code",
   "execution_count": 1,
   "metadata": {},
   "outputs": [],
   "source": [
    "import ray\n",
    "import time"
   ]
  },
  {
   "cell_type": "code",
   "execution_count": 2,
   "metadata": {},
   "outputs": [],
   "source": [
    "def normal_function():\n",
    "    return 1\n",
    "\n",
    "@ray.remote\n",
    "def my_function():\n",
    "    return 1"
   ]
  },
  {
   "cell_type": "code",
   "execution_count": 10,
   "metadata": {},
   "outputs": [
    {
     "name": "stdout",
     "output_type": "stream",
     "text": [
      "1.32 ms ± 116 µs per loop (mean ± std. dev. of 7 runs, 5 loops each)\n"
     ]
    }
   ],
   "source": [
    "%%timeit -n 5\n",
    "obj_ref = my_function.remote()\n",
    "ray.get(obj_ref)"
   ]
  },
  {
   "cell_type": "code",
   "execution_count": 11,
   "metadata": {},
   "outputs": [
    {
     "name": "stdout",
     "output_type": "stream",
     "text": [
      "140 ns ± 139 ns per loop (mean ± std. dev. of 7 runs, 5 loops each)\n"
     ]
    }
   ],
   "source": [
    "%%timeit -n 5\n",
    "o = normal_function()\n",
    "o"
   ]
  },
  {
   "cell_type": "code",
   "execution_count": 17,
   "metadata": {},
   "outputs": [],
   "source": [
    "@ray.remote\n",
    "def slow_function():\n",
    "    time.sleep(5)\n",
    "    return 1"
   ]
  },
  {
   "cell_type": "code",
   "execution_count": 49,
   "metadata": {},
   "outputs": [
    {
     "name": "stdout",
     "output_type": "stream",
     "text": [
      "[ObjectRef(7a8864067fa5553fffffffffffffffffffffffff0100000001000000), ObjectRef(ab500821de3397dbffffffffffffffffffffffff0100000001000000), ObjectRef(0190e882c39dde83ffffffffffffffffffffffff0100000001000000), ObjectRef(043b57d82bcae36cffffffffffffffffffffffff0100000001000000), ObjectRef(2293a32bde7452deffffffffffffffffffffffff0100000001000000), ObjectRef(947cf4274b34a51dffffffffffffffffffffffff0100000001000000), ObjectRef(fd51e76d364914edffffffffffffffffffffffff0100000001000000), ObjectRef(37184d4ca2b304b1ffffffffffffffffffffffff0100000001000000), ObjectRef(ab48262718bdf969ffffffffffffffffffffffff0100000001000000), ObjectRef(9009382f3d9fce80ffffffffffffffffffffffff0100000001000000), ObjectRef(c419c1bd6fc88196ffffffffffffffffffffffff0100000001000000), ObjectRef(50dbd2fb2b3daa94ffffffffffffffffffffffff0100000001000000), ObjectRef(e021565934be4929ffffffffffffffffffffffff0100000001000000), ObjectRef(dcebe4033e16fde4ffffffffffffffffffffffff0100000001000000), ObjectRef(4b12b3aaf88b06ffffffffffffffffffffffffff0100000001000000), ObjectRef(c0c7c41a9886dd40ffffffffffffffffffffffff0100000001000000), ObjectRef(36fdb7b3ea5d39beffffffffffffffffffffffff0100000001000000), ObjectRef(9fe5a56d7b887554ffffffffffffffffffffffff0100000001000000), ObjectRef(2fc718f771b09d68ffffffffffffffffffffffff0100000001000000), ObjectRef(303357284d0f959dffffffffffffffffffffffff0100000001000000), ObjectRef(92cb0264be2e581dffffffffffffffffffffffff0100000001000000), ObjectRef(835bfb96b92d9a7affffffffffffffffffffffff0100000001000000), ObjectRef(f811f39291a53ec5ffffffffffffffffffffffff0100000001000000), ObjectRef(ce237e48f5d69e22ffffffffffffffffffffffff0100000001000000)]\n",
      "1\n",
      "1\n",
      "1\n",
      "1\n",
      "1\n",
      "1\n",
      "1\n",
      "1\n",
      "1\n",
      "1\n",
      "1\n",
      "1\n",
      "1\n",
      "1\n",
      "1\n",
      "1\n",
      "1\n",
      "1\n",
      "1\n",
      "1\n",
      "1\n",
      "1\n",
      "1\n",
      "1\n"
     ]
    },
    {
     "ename": "",
     "evalue": "",
     "output_type": "error",
     "traceback": [
      "\u001b[1;31mThe Kernel crashed while executing code in the the current cell or a previous cell. Please review the code in the cell(s) to identify a possible cause of the failure. Click <a href='https://aka.ms/vscodeJupyterKernelCrash'>here</a> for more info. View Jupyter <a href='command:jupyter.viewOutput'>log</a> for further details."
     ]
    }
   ],
   "source": [
    "obj_refs = [slow_function.remote() for _ in range(24)]\n",
    "print(obj_refs)\n",
    "\n",
    "for obj_ref in obj_refs:\n",
    "    print(ray.get(obj_ref))"
   ]
  },
  {
   "cell_type": "code",
   "execution_count": 18,
   "metadata": {},
   "outputs": [],
   "source": [
    "@ray.remote\n",
    "def function_with_an_argument(value):\n",
    "    return value + 1\n",
    "\n",
    "obj_ref1 = slow_function.remote()\n",
    "assert ray.get(obj_ref1) == 1\n",
    "\n",
    "# You can pass an object ref as an argument to another Ray remote function.\n",
    "obj_ref2 = function_with_an_argument.remote(obj_ref1)\n",
    "assert ray.get(obj_ref2) == 2"
   ]
  },
  {
   "cell_type": "code",
   "execution_count": 28,
   "metadata": {},
   "outputs": [
    {
     "name": "stdout",
     "output_type": "stream",
     "text": [
      "10\n",
      "5 5\n"
     ]
    },
    {
     "data": {
      "text/plain": [
       "([ObjectRef(6efee821243c7757ffffffffffffffffffffffff0100000001000000),\n",
       "  ObjectRef(859398ca83c3d05affffffffffffffffffffffff0100000001000000),\n",
       "  ObjectRef(b09690aaeb916171ffffffffffffffffffffffff0100000001000000),\n",
       "  ObjectRef(81a37bdbafbadd26ffffffffffffffffffffffff0100000001000000),\n",
       "  ObjectRef(215ddf64c4c571b9ffffffffffffffffffffffff0100000001000000)],\n",
       " [ObjectRef(5c6a7a80be26e789ffffffffffffffffffffffff0100000001000000),\n",
       "  ObjectRef(83105f4bf619a6f9ffffffffffffffffffffffff0100000001000000),\n",
       "  ObjectRef(ba5afcb0f9a96efeffffffffffffffffffffffff0100000001000000),\n",
       "  ObjectRef(eeb91e012ec4396fffffffffffffffffffffffff0100000001000000),\n",
       "  ObjectRef(f95c61a87fc9f9beffffffffffffffffffffffff0100000001000000)])"
      ]
     },
     "execution_count": 28,
     "metadata": {},
     "output_type": "execute_result"
    }
   ],
   "source": [
    "ready_refs, remaining_refs = ray.wait(obj_refs, num_returns=5, timeout=None)\n",
    "print(len(obj_refs))\n",
    "print(len(ready_refs), len(remaining_refs))\n",
    "ready_refs, remaining_refs"
   ]
  },
  {
   "cell_type": "code",
   "execution_count": 48,
   "metadata": {},
   "outputs": [
    {
     "name": "stdout",
     "output_type": "stream",
     "text": [
      "[1, 1, 1, 1, 1, 1, 1, 1, 1, 1, 1, 1, 1, 1, 1, 1, 1, 1, 1, 1]\n",
      "[2, 3, 4, 5, 6]\n"
     ]
    }
   ],
   "source": [
    "@ray.remote\n",
    "class Counter(object):\n",
    "    def __init__(self):\n",
    "        self.value = 0\n",
    "\n",
    "    def increment(self):\n",
    "        self.value += 1\n",
    "        return self.value\n",
    "\n",
    "# Create an actor from this class.\n",
    "counter = Counter.remote()\n",
    "counters = [Counter.remote() for _ in range(20)]\n",
    "\n",
    "# Increment each Counter once and get the results. These tasks all happen in\n",
    "# parallel.\n",
    "results = ray.get([c.increment.remote() for c in counters])\n",
    "print(results)  # prints [1, 1, 1, 1, 1, 1, 1, 1, 1, 1]\n",
    "\n",
    "# Increment the first Counter five times. These tasks are executed serially\n",
    "# and share state.\n",
    "results = ray.get([counters[0].increment.remote() for _ in range(5)])\n",
    "print(results)  # prints [2, 3, 4, 5, 6]"
   ]
  },
  {
   "cell_type": "code",
   "execution_count": 40,
   "metadata": {},
   "outputs": [
    {
     "data": {
      "text/plain": [
       "ObjectRef(5711e88412104e5a4c66c8baf2886b50a70289350100000001000000)"
      ]
     },
     "execution_count": 40,
     "metadata": {},
     "output_type": "execute_result"
    }
   ],
   "source": [
    "counter.increment.remote()"
   ]
  },
  {
   "cell_type": "code",
   "execution_count": 44,
   "metadata": {},
   "outputs": [
    {
     "data": {
      "text/plain": [
       "ObjectRef(00ffffffffffffffffffffffffffffffffffffff0100000003000000)"
      ]
     },
     "execution_count": 44,
     "metadata": {},
     "output_type": "execute_result"
    }
   ],
   "source": [
    "y = 1\n",
    "y = ray.put(y)\n",
    "y"
   ]
  },
  {
   "cell_type": "code",
   "execution_count": 46,
   "metadata": {},
   "outputs": [
    {
     "data": {
      "text/plain": [
       "1"
      ]
     },
     "execution_count": 46,
     "metadata": {},
     "output_type": "execute_result"
    }
   ],
   "source": [
    "ray.get(y)"
   ]
  },
  {
   "cell_type": "code",
   "execution_count": 47,
   "metadata": {},
   "outputs": [
    {
     "data": {
      "text/plain": [
       "ObjectRef(00ffffffffffffffffffffffffffffffffffffff0100000003000000)"
      ]
     },
     "execution_count": 47,
     "metadata": {},
     "output_type": "execute_result"
    }
   ],
   "source": [
    "y"
   ]
  }
 ],
 "metadata": {
  "kernelspec": {
   "display_name": "Python 3.8.13 ('ml-bot')",
   "language": "python",
   "name": "python3"
  },
  "language_info": {
   "codemirror_mode": {
    "name": "ipython",
    "version": 3
   },
   "file_extension": ".py",
   "mimetype": "text/x-python",
   "name": "python",
   "nbconvert_exporter": "python",
   "pygments_lexer": "ipython3",
   "version": "3.8.13"
  },
  "orig_nbformat": 4,
  "vscode": {
   "interpreter": {
    "hash": "aee554be5372d57a1a8d0c8789d456036f96c86b5a6259585cc7b77cce32bbd9"
   }
  }
 },
 "nbformat": 4,
 "nbformat_minor": 2
}
