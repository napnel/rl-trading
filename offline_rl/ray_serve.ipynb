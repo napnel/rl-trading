{
 "cells": [
  {
   "cell_type": "code",
   "execution_count": 3,
   "metadata": {},
   "outputs": [],
   "source": [
    "import sys\n",
    "from pathlib import Path\n",
    "sys.path.append(str(Path().resolve().parent))"
   ]
  },
  {
   "cell_type": "code",
   "execution_count": 4,
   "metadata": {},
   "outputs": [],
   "source": [
    "import gym\n",
    "from starlette.requests import Request\n",
    "import requests\n",
    "\n",
    "import ray\n",
    "import ray.rllib.agents.ppo as ppo\n",
    "from ray import serve"
   ]
  },
  {
   "cell_type": "code",
   "execution_count": 5,
   "metadata": {},
   "outputs": [
    {
     "name": "stdout",
     "output_type": "stream",
     "text": [
      "./tmp/rllib_checkpoint/checkpoint_000001/checkpoint-1\n",
      "/home/napnel/ray_results/PPO_CartPole-v0_2022-02-11_17-27-342qqst2jo/checkpoint_000001/checkpoint-1\n"
     ]
    }
   ],
   "source": [
    "def train_ppo_model():\n",
    "    trainer = ppo.PPOTrainer(\n",
    "        config={\n",
    "            \"framework\": \"torch\",\n",
    "            \"num_workers\": 0\n",
    "        },\n",
    "        env=\"CartPole-v0\",\n",
    "    )\n",
    "    # Train for one iteration\n",
    "    trainer.train()\n",
    "    checkpoint = trainer.save(\"./tmp/rllib_checkpoint\")\n",
    "    print(checkpoint)\n",
    "    print(trainer.save())\n",
    "    return \"./tmp/rllib_checkpoint/checkpoint_000001/checkpoint-1\"\n",
    "\n",
    "\n",
    "checkpoint_path = train_ppo_model()"
   ]
  },
  {
   "cell_type": "code",
   "execution_count": 6,
   "metadata": {},
   "outputs": [],
   "source": [
    "@serve.deployment(route_prefix=\"/cartpole-ppo\")\n",
    "class ServePPOModel:\n",
    "    def __init__(self, checkpoint_path) -> None:\n",
    "        self.trainer = ppo.PPOTrainer(\n",
    "            config={\n",
    "                \"framework\": \"torch\",\n",
    "                # only 1 \"local\" worker with an env (not really used here).\n",
    "                \"num_workers\": 0,\n",
    "            },\n",
    "            env=\"CartPole-v0\")\n",
    "        self.trainer.restore(checkpoint_path)\n",
    "\n",
    "    async def __call__(self, request: Request):\n",
    "        json_input = await request.json()\n",
    "        obs = json_input[\"observation\"]\n",
    "\n",
    "        action = self.trainer.compute_single_action(obs, explore=False)\n",
    "        # action = self.trainer.compute_action(obs, explore=False)\n",
    "        return {\"action\": int(action)}"
   ]
  },
  {
   "cell_type": "code",
   "execution_count": 7,
   "metadata": {},
   "outputs": [
    {
     "name": "stderr",
     "output_type": "stream",
     "text": [
      "2022-02-11 17:27:47,314\tINFO services.py:1338 -- View the Ray dashboard at \u001b[1m\u001b[32mhttp://127.0.0.1:8265\u001b[39m\u001b[22m\n",
      "\u001b[2m\u001b[36m(ServeController pid=15063)\u001b[0m 2022-02-11 17:27:48,592\tINFO checkpoint_path.py:16 -- Using RayInternalKVStore for controller checkpoint and recovery.\n",
      "\u001b[2m\u001b[36m(ServeController pid=15063)\u001b[0m 2022-02-11 17:27:48,595\tINFO http_state.py:98 -- Starting HTTP proxy with name 'SERVE_CONTROLLER_ACTOR:dcpUYk:SERVE_PROXY_ACTOR-node:192.168.118.75-0' on node 'node:192.168.118.75-0' listening on '127.0.0.1:8000'\n",
      "2022-02-11 17:27:48,812\tINFO api.py:463 -- Started Serve instance in namespace 'serve'.\n",
      "2022-02-11 17:27:48,821\tINFO api.py:242 -- Updating deployment 'ServePPOModel'. component=serve deployment=ServePPOModel\n",
      "\u001b[2m\u001b[36m(HTTPProxyActor pid=15056)\u001b[0m INFO:     Started server process [15056]\n",
      "\u001b[2m\u001b[36m(ServeController pid=15063)\u001b[0m 2022-02-11 17:27:48,920\tINFO deployment_state.py:912 -- Adding 1 replicas to deployment 'ServePPOModel'. component=serve deployment=ServePPOModel\n",
      "\u001b[2m\u001b[36m(ServePPOModel pid=15054)\u001b[0m 2022-02-11 17:27:52,499\tINFO ppo.py:166 -- In multi-agent mode, policies will be optimized sequentially by the multi-GPU optimizer. Consider setting simple_optimizer=True if this doesn't work for you.\n",
      "\u001b[2m\u001b[36m(ServePPOModel pid=15054)\u001b[0m 2022-02-11 17:27:52,499\tINFO trainer.py:743 -- Current log_level is WARN. For more information, set 'log_level': 'INFO' / 'DEBUG' or use the -v and -vv flags.\n",
      "\u001b[2m\u001b[36m(ServePPOModel pid=15054)\u001b[0m 2022-02-11 17:27:52,558\tINFO trainable.py:467 -- Restored on 192.168.118.75 from checkpoint: ./tmp/rllib_checkpoint/checkpoint_000001/checkpoint-1\n",
      "\u001b[2m\u001b[36m(ServePPOModel pid=15054)\u001b[0m 2022-02-11 17:27:52,559\tINFO trainable.py:475 -- Current state after restoring: {'_iteration': 1, '_timesteps_total': 0, '_time_total': 10.589275121688843, '_episodes_total': 168}\n",
      "2022-02-11 17:27:52,567\tINFO api.py:249 -- Deployment 'ServePPOModel' is ready at `http://127.0.0.1:8000/cartpole-ppo`. component=serve deployment=ServePPOModel\n"
     ]
    }
   ],
   "source": [
    "serve.start()\n",
    "ServePPOModel.deploy(checkpoint_path)"
   ]
  },
  {
   "cell_type": "code",
   "execution_count": 8,
   "metadata": {},
   "outputs": [],
   "source": [
    "env = gym.make(\"CartPole-v0\")\n",
    "obs = env.reset()"
   ]
  },
  {
   "cell_type": "code",
   "execution_count": 9,
   "metadata": {},
   "outputs": [
    {
     "name": "stdout",
     "output_type": "stream",
     "text": [
      "-> Sending observation [-0.01783823  0.04272411  0.01209767  0.04633382]\n",
      "<- Received response {'action': 1}\n",
      "-> Sending observation [-0.01783823  0.04272411  0.01209767  0.04633382]\n",
      "<- Received response {'action': 1}\n",
      "-> Sending observation [-0.01783823  0.04272411  0.01209767  0.04633382]\n",
      "<- Received response {'action': 1}\n",
      "-> Sending observation [-0.01783823  0.04272411  0.01209767  0.04633382]\n",
      "<- Received response {'action': 1}\n",
      "-> Sending observation [-0.01783823  0.04272411  0.01209767  0.04633382]\n",
      "<- Received response {'action': 1}\n",
      "-> Sending observation [-0.01783823  0.04272411  0.01209767  0.04633382]\n",
      "<- Received response {'action': 1}\n",
      "-> Sending observation [-0.01783823  0.04272411  0.01209767  0.04633382]\n",
      "<- Received response {'action': 1}\n",
      "-> Sending observation [-0.01783823  0.04272411  0.01209767  0.04633382]\n",
      "<- Received response {'action': 1}\n",
      "-> Sending observation [-0.01783823  0.04272411  0.01209767  0.04633382]\n",
      "<- Received response {'action': 1}\n",
      "-> Sending observation [-0.01783823  0.04272411  0.01209767  0.04633382]\n",
      "<- Received response {'action': 1}\n"
     ]
    },
    {
     "name": "stderr",
     "output_type": "stream",
     "text": [
      "\u001b[2m\u001b[36m(ServePPOModel pid=15054)\u001b[0m E0211 17:28:38.046864600   16354 backup_poller.cc:134]       Run client channel backup poller: {\"created\":\"@1644568118.046833000\",\"description\":\"pollset_work\",\"file\":\"src/core/lib/iomgr/ev_epollex_linux.cc\",\"file_line\":320,\"referenced_errors\":[{\"created\":\"@1644568118.046827700\",\"description\":\"Bad file descriptor\",\"errno\":9,\"file\":\"src/core/lib/iomgr/ev_epollex_linux.cc\",\"file_line\":950,\"os_error\":\"Bad file descriptor\",\"syscall\":\"epoll_wait\"}]}\n"
     ]
    }
   ],
   "source": [
    "# That's it! Let's test it\n",
    "for _ in range(10):\n",
    "    print(f\"-> Sending observation {obs}\")\n",
    "    resp = requests.get(\n",
    "        \"http://localhost:8000/cartpole-ppo\",\n",
    "        json={\"observation\": obs.tolist()})\n",
    "    print(f\"<- Received response {resp.json()}\")\n",
    "# Output:\n",
    "# <- Received response {'action': 1}\n",
    "# -> Sending observation [0.04228249 0.02289503 0.00690076 0.03095441]\n",
    "# <- Received response {'action': 0}\n",
    "# -> Sending observation [ 0.04819471 -0.04702759 -0.00477937 -0.00735569]\n",
    "# <- Received response {'action': 0}\n",
    "# ..."
   ]
  }
 ],
 "metadata": {
  "interpreter": {
   "hash": "60ed309031a8768d278d7c7b1359a9e37f49534c66ee819e22d1da4dbbcd2a00"
  },
  "kernelspec": {
   "display_name": "Python 3.8.0 64-bit ('ml-bot': conda)",
   "language": "python",
   "name": "python3"
  },
  "language_info": {
   "codemirror_mode": {
    "name": "ipython",
    "version": 3
   },
   "file_extension": ".py",
   "mimetype": "text/x-python",
   "name": "python",
   "nbconvert_exporter": "python",
   "pygments_lexer": "ipython3",
   "version": "3.8.0"
  },
  "orig_nbformat": 4
 },
 "nbformat": 4,
 "nbformat_minor": 2
}
